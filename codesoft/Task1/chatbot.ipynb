{
 "cells": [
  {
   "cell_type": "code",
   "execution_count": null,
   "id": "61573f92",
   "metadata": {},
   "outputs": [],
   "source": [
    "def chatbot_response(user_input):\n",
    "    # Convert the input to lowercase to make the matching case-insensitive\n",
    "    user_input = user_input.lower()\n",
    "    \n",
    "    # Define responses based on user input\n",
    "    if \"hello\" in user_input or \"hi\" in user_input:\n",
    "        return \"Hello! How can I help you today?\"\n",
    "    elif \"how are you\" in user_input:\n",
    "        return \"I'm just a bot, but I'm here to help you!\"\n",
    "    elif \"what is your name\" in user_input:\n",
    "        return \"I'm a simple chatbot created to assist you.\"\n",
    "    elif \"bye\" in user_input or \"goodbye\" in user_input:\n",
    "        return \"Goodbye! Have a great day!\"\n",
    "    elif \"help\" in user_input:\n",
    "        return \"Sure, I'm here to help. What do you need assistance with?\"\n",
    "    else:\n",
    "        return \"I'm sorry, I didn't understand that. Can you please rephrase?\"\n",
    "\n",
    "# Main loop to interact with the chatbot\n",
    "while True:\n",
    "    user_input = input(\"You: \")\n",
    "    response = chatbot_response(user_input)\n",
    "    print(\"Bot: \" + response)\n",
    "    \n",
    "    # Exit the loop if the user says goodbye\n",
    "    if \"bye\" in user_input or \"goodbye\" in user_input:\n",
    "        break"
   ]
  },
  {
   "cell_type": "code",
   "execution_count": null,
   "id": "1ab91584",
   "metadata": {},
   "outputs": [],
   "source": []
  }
 ],
 "metadata": {
  "kernelspec": {
   "display_name": "Python 3 (ipykernel)",
   "language": "python",
   "name": "python3"
  },
  "language_info": {
   "codemirror_mode": {
    "name": "ipython",
    "version": 3
   },
   "file_extension": ".py",
   "mimetype": "text/x-python",
   "name": "python",
   "nbconvert_exporter": "python",
   "pygments_lexer": "ipython3",
   "version": "3.11.5"
  }
 },
 "nbformat": 4,
 "nbformat_minor": 5
}
